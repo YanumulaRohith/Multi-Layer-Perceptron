{
  "nbformat": 4,
  "nbformat_minor": 0,
  "metadata": {
    "colab": {
      "provenance": [],
      "gpuType": "T4",
      "authorship_tag": "ABX9TyPRvqZ708Hxs6iCAFevyVqH"
    },
    "kernelspec": {
      "name": "python3",
      "display_name": "Python 3"
    },
    "language_info": {
      "name": "python"
    },
    "accelerator": "GPU"
  },
  "cells": [
    {
      "cell_type": "markdown",
      "source": [
        "# **Hand Written digit Recognition of mnist dataset**"
      ],
      "metadata": {
        "id": "kbxyzcE2KE_V"
      }
    },
    {
      "cell_type": "markdown",
      "source": [
        "# Importing necessary libraries"
      ],
      "metadata": {
        "id": "5oDomOEYH2VA"
      }
    },
    {
      "cell_type": "code",
      "execution_count": 19,
      "metadata": {
        "id": "V-UK3v32HvdH"
      },
      "outputs": [],
      "source": [
        "from keras.datasets import mnist\n",
        "from keras.utils import to_categorical\n",
        "from keras.models import Sequential\n",
        "from keras.layers import Dense, Dropout"
      ]
    },
    {
      "cell_type": "markdown",
      "source": [
        "# Data preprocessing"
      ],
      "metadata": {
        "id": "LU_xFC2XIXXu"
      }
    },
    {
      "cell_type": "code",
      "source": [
        "batch_size=128\n",
        "num_classes=10\n",
        "epochs=50"
      ],
      "metadata": {
        "id": "VhqQxnolH-QH"
      },
      "execution_count": 20,
      "outputs": []
    },
    {
      "cell_type": "code",
      "source": [
        "(x_train,y_train),(x_test,y_test)=mnist.load_data()"
      ],
      "metadata": {
        "id": "SdQ72qx5JRUU"
      },
      "execution_count": 21,
      "outputs": []
    },
    {
      "cell_type": "code",
      "source": [
        "x_train=x_train.reshape(60000,784)\n",
        "x_test=x_test.reshape(10000,784)"
      ],
      "metadata": {
        "id": "Jn8sLHbRJT_B"
      },
      "execution_count": 22,
      "outputs": []
    },
    {
      "cell_type": "code",
      "source": [
        "x_train=x_train.astype('float32')\n",
        "x_test=x_test.astype('float32')"
      ],
      "metadata": {
        "id": "Vdyh8qJ6Jgma"
      },
      "execution_count": 23,
      "outputs": []
    },
    {
      "cell_type": "code",
      "source": [
        "x_train/=255\n",
        "x_test/=255"
      ],
      "metadata": {
        "id": "ht5rQBH1JVdU"
      },
      "execution_count": 24,
      "outputs": []
    },
    {
      "cell_type": "code",
      "source": [
        "y_train=to_categorical(y_train,num_classes)\n",
        "y_test=to_categorical(y_test,num_classes)"
      ],
      "metadata": {
        "id": "O8ReWJ05JXLv"
      },
      "execution_count": 25,
      "outputs": []
    },
    {
      "cell_type": "markdown",
      "source": [
        "## Defining and compiling"
      ],
      "metadata": {
        "id": "V_DKsV0kIiiF"
      }
    },
    {
      "cell_type": "code",
      "source": [
        "model=Sequential()\n"
      ],
      "metadata": {
        "id": "DXuytN8YIbcC"
      },
      "execution_count": 26,
      "outputs": []
    },
    {
      "cell_type": "code",
      "source": [
        "model.add(Dense(512,activation='relu',input_shape=(784,)))"
      ],
      "metadata": {
        "id": "sc1f1Ef7Ih_F"
      },
      "execution_count": 27,
      "outputs": []
    },
    {
      "cell_type": "code",
      "source": [
        "model.add(Dropout(0.2))"
      ],
      "metadata": {
        "id": "NtJvDjIqIgyD"
      },
      "execution_count": 28,
      "outputs": []
    },
    {
      "cell_type": "code",
      "source": [
        "model.add(Dense(512,activation='relu'))\n",
        "model.add(Dropout(0.2))"
      ],
      "metadata": {
        "id": "gR_0Yw-BIqmG"
      },
      "execution_count": 29,
      "outputs": []
    },
    {
      "cell_type": "code",
      "source": [
        "model.add(Dense(num_classes,activation='softmax'))"
      ],
      "metadata": {
        "id": "5ykSg111ItPU"
      },
      "execution_count": 30,
      "outputs": []
    },
    {
      "cell_type": "code",
      "source": [
        "model.summary()"
      ],
      "metadata": {
        "colab": {
          "base_uri": "https://localhost:8080/"
        },
        "id": "luU7I9rTIwhk",
        "outputId": "424dca31-092a-47a3-b17e-def7e9727c45"
      },
      "execution_count": 31,
      "outputs": [
        {
          "output_type": "stream",
          "name": "stdout",
          "text": [
            "Model: \"sequential_1\"\n",
            "_________________________________________________________________\n",
            " Layer (type)                Output Shape              Param #   \n",
            "=================================================================\n",
            " dense_3 (Dense)             (None, 512)               401920    \n",
            "                                                                 \n",
            " dropout_2 (Dropout)         (None, 512)               0         \n",
            "                                                                 \n",
            " dense_4 (Dense)             (None, 512)               262656    \n",
            "                                                                 \n",
            " dropout_3 (Dropout)         (None, 512)               0         \n",
            "                                                                 \n",
            " dense_5 (Dense)             (None, 10)                5130      \n",
            "                                                                 \n",
            "=================================================================\n",
            "Total params: 669706 (2.55 MB)\n",
            "Trainable params: 669706 (2.55 MB)\n",
            "Non-trainable params: 0 (0.00 Byte)\n",
            "_________________________________________________________________\n"
          ]
        }
      ]
    },
    {
      "cell_type": "code",
      "source": [
        "model.compile(loss='categorical_crossentropy',optimizer='sgd',metrics=['accuracy'])"
      ],
      "metadata": {
        "id": "d_xdIqa0IzuJ"
      },
      "execution_count": 32,
      "outputs": []
    },
    {
      "cell_type": "markdown",
      "source": [
        "## Model training"
      ],
      "metadata": {
        "id": "tK0E6c5QJnnU"
      }
    },
    {
      "cell_type": "code",
      "source": [
        "model.fit(x_train,y_train,batch_size=batch_size,epochs=epochs,validation_data=(x_test,y_test))"
      ],
      "metadata": {
        "colab": {
          "base_uri": "https://localhost:8080/"
        },
        "id": "KzC59P8hI47m",
        "outputId": "a9248e3d-cc40-4435-ccc2-98aec8f5f797"
      },
      "execution_count": 33,
      "outputs": [
        {
          "output_type": "stream",
          "name": "stdout",
          "text": [
            "Epoch 1/50\n",
            "469/469 [==============================] - 3s 4ms/step - loss: 1.2486 - accuracy: 0.6712 - val_loss: 0.5533 - val_accuracy: 0.8698\n",
            "Epoch 2/50\n",
            "469/469 [==============================] - 2s 4ms/step - loss: 0.5385 - accuracy: 0.8479 - val_loss: 0.3773 - val_accuracy: 0.8980\n",
            "Epoch 3/50\n",
            "469/469 [==============================] - 2s 5ms/step - loss: 0.4294 - accuracy: 0.8765 - val_loss: 0.3271 - val_accuracy: 0.9078\n",
            "Epoch 4/50\n",
            "469/469 [==============================] - 2s 4ms/step - loss: 0.3808 - accuracy: 0.8905 - val_loss: 0.2969 - val_accuracy: 0.9169\n",
            "Epoch 5/50\n",
            "469/469 [==============================] - 2s 4ms/step - loss: 0.3475 - accuracy: 0.9004 - val_loss: 0.2755 - val_accuracy: 0.9214\n",
            "Epoch 6/50\n",
            "469/469 [==============================] - 2s 4ms/step - loss: 0.3231 - accuracy: 0.9062 - val_loss: 0.2578 - val_accuracy: 0.9264\n",
            "Epoch 7/50\n",
            "469/469 [==============================] - 2s 4ms/step - loss: 0.3021 - accuracy: 0.9122 - val_loss: 0.2435 - val_accuracy: 0.9303\n",
            "Epoch 8/50\n",
            "469/469 [==============================] - 2s 4ms/step - loss: 0.2865 - accuracy: 0.9166 - val_loss: 0.2313 - val_accuracy: 0.9349\n",
            "Epoch 9/50\n",
            "469/469 [==============================] - 3s 6ms/step - loss: 0.2711 - accuracy: 0.9211 - val_loss: 0.2214 - val_accuracy: 0.9361\n",
            "Epoch 10/50\n",
            "469/469 [==============================] - 2s 4ms/step - loss: 0.2585 - accuracy: 0.9251 - val_loss: 0.2109 - val_accuracy: 0.9392\n",
            "Epoch 11/50\n",
            "469/469 [==============================] - 2s 4ms/step - loss: 0.2483 - accuracy: 0.9289 - val_loss: 0.2020 - val_accuracy: 0.9425\n",
            "Epoch 12/50\n",
            "469/469 [==============================] - 2s 4ms/step - loss: 0.2373 - accuracy: 0.9317 - val_loss: 0.1946 - val_accuracy: 0.9447\n",
            "Epoch 13/50\n",
            "469/469 [==============================] - 2s 4ms/step - loss: 0.2269 - accuracy: 0.9343 - val_loss: 0.1865 - val_accuracy: 0.9470\n",
            "Epoch 14/50\n",
            "469/469 [==============================] - 2s 4ms/step - loss: 0.2186 - accuracy: 0.9368 - val_loss: 0.1791 - val_accuracy: 0.9488\n",
            "Epoch 15/50\n",
            "469/469 [==============================] - 3s 6ms/step - loss: 0.2094 - accuracy: 0.9394 - val_loss: 0.1742 - val_accuracy: 0.9498\n",
            "Epoch 16/50\n",
            "469/469 [==============================] - 2s 4ms/step - loss: 0.2036 - accuracy: 0.9409 - val_loss: 0.1670 - val_accuracy: 0.9521\n",
            "Epoch 17/50\n",
            "469/469 [==============================] - 2s 4ms/step - loss: 0.1948 - accuracy: 0.9442 - val_loss: 0.1621 - val_accuracy: 0.9531\n",
            "Epoch 18/50\n",
            "469/469 [==============================] - 2s 4ms/step - loss: 0.1895 - accuracy: 0.9456 - val_loss: 0.1562 - val_accuracy: 0.9546\n",
            "Epoch 19/50\n",
            "469/469 [==============================] - 2s 4ms/step - loss: 0.1843 - accuracy: 0.9472 - val_loss: 0.1524 - val_accuracy: 0.9553\n",
            "Epoch 20/50\n",
            "469/469 [==============================] - 2s 4ms/step - loss: 0.1778 - accuracy: 0.9498 - val_loss: 0.1472 - val_accuracy: 0.9560\n",
            "Epoch 21/50\n",
            "469/469 [==============================] - 2s 5ms/step - loss: 0.1725 - accuracy: 0.9498 - val_loss: 0.1432 - val_accuracy: 0.9575\n",
            "Epoch 22/50\n",
            "469/469 [==============================] - 2s 4ms/step - loss: 0.1687 - accuracy: 0.9511 - val_loss: 0.1405 - val_accuracy: 0.9579\n",
            "Epoch 23/50\n",
            "469/469 [==============================] - 2s 4ms/step - loss: 0.1634 - accuracy: 0.9528 - val_loss: 0.1360 - val_accuracy: 0.9585\n",
            "Epoch 24/50\n",
            "469/469 [==============================] - 2s 4ms/step - loss: 0.1576 - accuracy: 0.9544 - val_loss: 0.1331 - val_accuracy: 0.9594\n",
            "Epoch 25/50\n",
            "469/469 [==============================] - 2s 4ms/step - loss: 0.1544 - accuracy: 0.9552 - val_loss: 0.1292 - val_accuracy: 0.9611\n",
            "Epoch 26/50\n",
            "469/469 [==============================] - 2s 4ms/step - loss: 0.1502 - accuracy: 0.9561 - val_loss: 0.1267 - val_accuracy: 0.9617\n",
            "Epoch 27/50\n",
            "469/469 [==============================] - 3s 6ms/step - loss: 0.1467 - accuracy: 0.9580 - val_loss: 0.1242 - val_accuracy: 0.9617\n",
            "Epoch 28/50\n",
            "469/469 [==============================] - 3s 5ms/step - loss: 0.1431 - accuracy: 0.9584 - val_loss: 0.1213 - val_accuracy: 0.9628\n",
            "Epoch 29/50\n",
            "469/469 [==============================] - 2s 4ms/step - loss: 0.1394 - accuracy: 0.9597 - val_loss: 0.1194 - val_accuracy: 0.9635\n",
            "Epoch 30/50\n",
            "469/469 [==============================] - 2s 4ms/step - loss: 0.1371 - accuracy: 0.9603 - val_loss: 0.1165 - val_accuracy: 0.9638\n",
            "Epoch 31/50\n",
            "469/469 [==============================] - 2s 4ms/step - loss: 0.1341 - accuracy: 0.9619 - val_loss: 0.1147 - val_accuracy: 0.9649\n",
            "Epoch 32/50\n",
            "469/469 [==============================] - 2s 5ms/step - loss: 0.1297 - accuracy: 0.9625 - val_loss: 0.1120 - val_accuracy: 0.9661\n",
            "Epoch 33/50\n",
            "469/469 [==============================] - 2s 5ms/step - loss: 0.1269 - accuracy: 0.9631 - val_loss: 0.1096 - val_accuracy: 0.9663\n",
            "Epoch 34/50\n",
            "469/469 [==============================] - 2s 4ms/step - loss: 0.1243 - accuracy: 0.9636 - val_loss: 0.1081 - val_accuracy: 0.9669\n",
            "Epoch 35/50\n",
            "469/469 [==============================] - 2s 4ms/step - loss: 0.1219 - accuracy: 0.9647 - val_loss: 0.1065 - val_accuracy: 0.9669\n",
            "Epoch 36/50\n",
            "469/469 [==============================] - 2s 4ms/step - loss: 0.1214 - accuracy: 0.9653 - val_loss: 0.1042 - val_accuracy: 0.9678\n",
            "Epoch 37/50\n",
            "469/469 [==============================] - 2s 4ms/step - loss: 0.1184 - accuracy: 0.9660 - val_loss: 0.1023 - val_accuracy: 0.9681\n",
            "Epoch 38/50\n",
            "469/469 [==============================] - 2s 4ms/step - loss: 0.1165 - accuracy: 0.9669 - val_loss: 0.1008 - val_accuracy: 0.9686\n",
            "Epoch 39/50\n",
            "469/469 [==============================] - 2s 5ms/step - loss: 0.1126 - accuracy: 0.9678 - val_loss: 0.0992 - val_accuracy: 0.9690\n",
            "Epoch 40/50\n",
            "469/469 [==============================] - 2s 4ms/step - loss: 0.1089 - accuracy: 0.9683 - val_loss: 0.0982 - val_accuracy: 0.9692\n",
            "Epoch 41/50\n",
            "469/469 [==============================] - 2s 4ms/step - loss: 0.1095 - accuracy: 0.9673 - val_loss: 0.0964 - val_accuracy: 0.9693\n",
            "Epoch 42/50\n",
            "469/469 [==============================] - 2s 4ms/step - loss: 0.1057 - accuracy: 0.9692 - val_loss: 0.0951 - val_accuracy: 0.9700\n",
            "Epoch 43/50\n",
            "469/469 [==============================] - 2s 4ms/step - loss: 0.1053 - accuracy: 0.9696 - val_loss: 0.0938 - val_accuracy: 0.9709\n",
            "Epoch 44/50\n",
            "469/469 [==============================] - 2s 4ms/step - loss: 0.1018 - accuracy: 0.9701 - val_loss: 0.0924 - val_accuracy: 0.9704\n",
            "Epoch 45/50\n",
            "469/469 [==============================] - 2s 5ms/step - loss: 0.1006 - accuracy: 0.9708 - val_loss: 0.0915 - val_accuracy: 0.9714\n",
            "Epoch 46/50\n",
            "469/469 [==============================] - 2s 4ms/step - loss: 0.0998 - accuracy: 0.9710 - val_loss: 0.0902 - val_accuracy: 0.9714\n",
            "Epoch 47/50\n",
            "469/469 [==============================] - 2s 4ms/step - loss: 0.0976 - accuracy: 0.9718 - val_loss: 0.0896 - val_accuracy: 0.9718\n",
            "Epoch 48/50\n",
            "469/469 [==============================] - 2s 4ms/step - loss: 0.0962 - accuracy: 0.9724 - val_loss: 0.0880 - val_accuracy: 0.9724\n",
            "Epoch 49/50\n",
            "469/469 [==============================] - 2s 4ms/step - loss: 0.0949 - accuracy: 0.9726 - val_loss: 0.0866 - val_accuracy: 0.9724\n",
            "Epoch 50/50\n",
            "469/469 [==============================] - 2s 4ms/step - loss: 0.0929 - accuracy: 0.9723 - val_loss: 0.0863 - val_accuracy: 0.9726\n"
          ]
        },
        {
          "output_type": "execute_result",
          "data": {
            "text/plain": [
              "<keras.src.callbacks.History at 0x7c9fc96c26e0>"
            ]
          },
          "metadata": {},
          "execution_count": 33
        }
      ]
    },
    {
      "cell_type": "markdown",
      "source": [
        "## Model Testing"
      ],
      "metadata": {
        "id": "Z7QLekuVJtno"
      }
    },
    {
      "cell_type": "code",
      "source": [
        "score=model.evaluate(x_test,y_test,batch_size=32)"
      ],
      "metadata": {
        "colab": {
          "base_uri": "https://localhost:8080/"
        },
        "id": "hvXK80wTI9ow",
        "outputId": "82dc9e69-6c10-471a-b09b-702b5e90a70e"
      },
      "execution_count": 34,
      "outputs": [
        {
          "output_type": "stream",
          "name": "stdout",
          "text": [
            "313/313 [==============================] - 1s 4ms/step - loss: 0.0863 - accuracy: 0.9726\n"
          ]
        }
      ]
    },
    {
      "cell_type": "markdown",
      "source": [],
      "metadata": {
        "id": "SWnYAyxeKED7"
      }
    },
    {
      "cell_type": "code",
      "source": [
        "print('Test loss',score[0])"
      ],
      "metadata": {
        "colab": {
          "base_uri": "https://localhost:8080/"
        },
        "id": "L896OakBJAk4",
        "outputId": "777cddf8-748a-4749-d619-8a9b4b67010d"
      },
      "execution_count": 35,
      "outputs": [
        {
          "output_type": "stream",
          "name": "stdout",
          "text": [
            "Test loss 0.08626198768615723\n"
          ]
        }
      ]
    },
    {
      "cell_type": "code",
      "source": [
        "print('Test Acccuracy',score[1])"
      ],
      "metadata": {
        "colab": {
          "base_uri": "https://localhost:8080/"
        },
        "id": "EeSMydRGL03u",
        "outputId": "81381441-46c2-4d46-aabe-60a3c45dd9cc"
      },
      "execution_count": 36,
      "outputs": [
        {
          "output_type": "stream",
          "name": "stdout",
          "text": [
            "Test Acccuracy 0.972599983215332\n"
          ]
        }
      ]
    },
    {
      "cell_type": "code",
      "source": [],
      "metadata": {
        "id": "f6w-u7SyOHTf"
      },
      "execution_count": null,
      "outputs": []
    }
  ]
}
